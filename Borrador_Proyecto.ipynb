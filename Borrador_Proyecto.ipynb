{
 "cells": [
  {
   "cell_type": "markdown",
   "id": "9611276a-cab7-4ae5-b18d-f6677d24a797",
   "metadata": {},
   "source": [
    "# Borrador Proyecto IMT-2200 Grupo 28\n",
    "\n",
    "\n",
    "Este jupyter notebook tiene como proposito hacer el analisis de admision a la educacion superior dentro de los años 20xx'2024.\n",
    "Esta echo de manera explicativa con graficos y interpretaciones para cada caso, se recomienda ir directo a la seccion de Interpretacion para saltarse la parte tecnica.\n"
   ]
  },
  {
   "cell_type": "markdown",
   "id": "ee2cd73d-a349-4a6b-9c0b-ec96c1f08f93",
   "metadata": {},
   "source": [
    "## Índice\n",
    "\n",
    "- **Import de librería**\n",
    "\n",
    "- **Lectura de archivos**\n",
    "    - Leer el archivo de datos\n",
    "    - Vista previa de los datos\n",
    "\n",
    "- **Limpieza de datos**\n",
    "    - Eliminar null y datos inconsistentes\n",
    "    - Corregir errores\n",
    "    - Tratar con duplicados\n",
    "    - Renombrar columnas\n",
    "\n",
    "- **Análisis de los Datos**\n",
    "    - Juntar bases\n",
    "    - Hacer gráficos\n",
    "    - ...\n",
    "\n",
    "- **Conclusiones**\n",
    "\n"
   ]
  },
  {
   "cell_type": "code",
   "execution_count": null,
   "id": "2a03f5e4-97ad-49f5-a572-8d414b8539d0",
   "metadata": {},
   "outputs": [],
   "source": []
  },
  {
   "cell_type": "markdown",
   "id": "fad78eb2-c61d-4721-ac23-864207d7528f",
   "metadata": {},
   "source": [
    "## Import de librerias a utilizar ->"
   ]
  },
  {
   "cell_type": "markdown",
   "id": "d25920a2-309a-4299-909d-951f876b7b64",
   "metadata": {},
   "source": [
    "### Nuestras librerias a utilizar son:\n",
    "\n",
    "- Pandas;  Creación del DataFrame, su limpieza, joins, groupby, etc… \n",
    "\n",
    "- Numpy;  Pasar algunos datos a arreglos, vectores y matrices.  \n",
    "\n",
    "- Matploit;  Gráficos. \n",
    "\n",
    "- Plotly;  Gráficos interactivos para la exploración y visualización."
   ]
  },
  {
   "cell_type": "code",
   "execution_count": 2,
   "id": "92fd7c9b-7ab2-4707-9f90-9e30c7141e10",
   "metadata": {},
   "outputs": [],
   "source": [
    "import pandas as pd\n",
    "\n"
   ]
  },
  {
   "cell_type": "markdown",
   "id": "8578eac7-d19f-46b8-a1dd-200b63c59ded",
   "metadata": {},
   "source": [
    "## Lectura de Archivos ->"
   ]
  },
  {
   "cell_type": "code",
   "execution_count": null,
   "id": "ef1841a9-10c4-4bfe-85e6-3952f8652281",
   "metadata": {},
   "outputs": [],
   "source": []
  },
  {
   "cell_type": "markdown",
   "id": "8bc7e208-d67f-428a-ad35-639e5ba715ab",
   "metadata": {},
   "source": [
    "### Limpieza de datos ->"
   ]
  },
  {
   "cell_type": "code",
   "execution_count": null,
   "id": "12c054fc-5c52-40af-a4cf-5fc968683ace",
   "metadata": {},
   "outputs": [],
   "source": []
  },
  {
   "cell_type": "code",
   "execution_count": null,
   "id": "4818ae41-0b60-494f-ae4a-163ca30e3d68",
   "metadata": {},
   "outputs": [],
   "source": []
  },
  {
   "cell_type": "code",
   "execution_count": null,
   "id": "249eb434-598b-4b05-9498-1c39d658e7f9",
   "metadata": {},
   "outputs": [],
   "source": []
  },
  {
   "cell_type": "code",
   "execution_count": null,
   "id": "19ea57d3-f114-4637-a9b7-8013cbfa547a",
   "metadata": {},
   "outputs": [],
   "source": []
  },
  {
   "cell_type": "code",
   "execution_count": null,
   "id": "b9ae5779-e6b0-48c8-a2b2-7f590bff809a",
   "metadata": {},
   "outputs": [],
   "source": []
  }
 ],
 "metadata": {
  "kernelspec": {
   "display_name": "Python 3 (ipykernel)",
   "language": "python",
   "name": "python3"
  },
  "language_info": {
   "codemirror_mode": {
    "name": "ipython",
    "version": 3
   },
   "file_extension": ".py",
   "mimetype": "text/x-python",
   "name": "python",
   "nbconvert_exporter": "python",
   "pygments_lexer": "ipython3",
   "version": "3.13.5"
  }
 },
 "nbformat": 4,
 "nbformat_minor": 5
}

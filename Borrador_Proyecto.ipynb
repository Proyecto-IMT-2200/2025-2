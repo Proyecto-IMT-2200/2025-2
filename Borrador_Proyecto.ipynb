{
 "cells": [
  {
   "cell_type": "markdown",
   "id": "9611276a-cab7-4ae5-b18d-f6677d24a797",
   "metadata": {},
   "source": [
    "# Borrador Proyecto IMT-2200 Grupo 28\n",
    "\n",
    "\n",
    "Este jupyter notebook tiene como proposito hacer el analisis de admision a la educacion superior dentro de los años 20xx'2024.\n",
    "Esta echo de manera explicativa con graficos y interpretaciones para cada caso, se recomienda ir directo a la seccion de Interpretacion para saltarse la parte tecnica.\n"
   ]
  },
  {
   "cell_type": "markdown",
   "id": "ee2cd73d-a349-4a6b-9c0b-ec96c1f08f93",
   "metadata": {
    "jp-MarkdownHeadingCollapsed": true
   },
   "source": [
    "## Índice"
   ]
  },
  {
   "cell_type": "markdown",
   "id": "2cc640ca-cbf4-49e8-ac2f-34756ba61aa1",
   "metadata": {},
   "source": [
    "- **Import de librería**\n",
    "    - Explicacinn de libreria a utilizar.\n",
    "  \n",
    "\n",
    "- **Lectura de archivos**\n",
    "    - Leer el archivo de datos\n",
    "    - Vista previa de los datos\n",
    "\n",
    "- **Limpieza de datos**\n",
    "    - Eliminar null y datos inconsistentes\n",
    "    - Corregir errores\n",
    "    - Tratar con duplicados\n",
    "    - Renombrar columnas\n",
    "\n",
    "- **Análisis de los Datos(EDA)**\n",
    "    - Juntar bases\n",
    "    - Hacer gráficos\n",
    "    - ...\n",
    "- **PREGUNTAS DE INVESTIGACIÓN**\n",
    "\n",
    "  1. ¿Cuántas personas se inscribieron en cada periodo de admisión entre 2004 y 2025?\n",
    "\n",
    "\n",
    "  2. ¿Hubo un aumento en las inscripciones en los periodos de transición (PSU/PTU/PAES)?\n",
    "\n",
    "\n",
    "  3. Según el grupo socioeconómico, ¿cuál fue el porcentaje de ingresos en las distintas universidades?\n",
    "\n",
    "\n",
    "  4. ¿Qué comunas presentaron los mayores porcentajes de ingresos a la educación superior?\n",
    "\n",
    "\n",
    "  5. ¿Qué relación existe entre la situación de egreso de los estudiantes y los resultados de admisión a la educación superior?\n",
    " \n",
    "\n",
    "\n",
    "*Nuevas pregunta surgida en el proceso EDA:*\n",
    "\n",
    "    - ¿En los últimos años, los individuos que repiten la PAES logran mejorar sus puntajes?\n",
    "     \n",
    "\n",
    "    \n",
    "\n",
    "- **Conclusiones**\n",
    "    - Resumen Tecnico\n",
    "    - ..."
   ]
  },
  {
   "cell_type": "markdown",
   "id": "fad78eb2-c61d-4721-ac23-864207d7528f",
   "metadata": {
    "jp-MarkdownHeadingCollapsed": true
   },
   "source": [
    "## Import de librerias a utilizar"
   ]
  },
  {
   "cell_type": "markdown",
   "id": "d25920a2-309a-4299-909d-951f876b7b64",
   "metadata": {},
   "source": [
    "\n",
    "- **Pandas**: Creación del DataFrame, su limpieza, joins, groupby, etc.\n",
    "- **Numpy**: Pasar algunos datos a arreglos, vectores y matrices.\n",
    "- **Matplotlib**: Gráficos.\n",
    "- **Plotly**: Gráficos interactivos para la exploración y visualización.\n",
    "- **...**\n"
   ]
  },
  {
   "cell_type": "code",
   "execution_count": 1,
   "id": "92fd7c9b-7ab2-4707-9f90-9e30c7141e10",
   "metadata": {},
   "outputs": [],
   "source": [
    "import pandas as pd\n",
    "import numpy as np\n",
    "import matplotlib.pyplot as plt\n",
    "import os\n",
    "from pathlib import Path\n",
    "from copy import deepcopy as dcopy\n",
    "#import geopandas as gpd\n"
   ]
  },
  {
   "cell_type": "code",
   "execution_count": null,
   "id": "fba16ad7-a867-4391-8d46-ce7414afbe2f",
   "metadata": {},
   "outputs": [],
   "source": []
  },
  {
   "cell_type": "code",
   "execution_count": null,
   "id": "2ea0fb53-d76b-4d3d-bb00-ac07172495c4",
   "metadata": {},
   "outputs": [],
   "source": []
  },
  {
   "cell_type": "markdown",
   "id": "8578eac7-d19f-46b8-a1dd-200b63c59ded",
   "metadata": {},
   "source": [
    "## Lectura de Archivos\n"
   ]
  },
  {
   "cell_type": "markdown",
   "id": "8f53ddfb",
   "metadata": {},
   "source": [
    "    - Leer el archivo de datos\n",
    "    - Vista previa de los datos"
   ]
  },
  {
   "cell_type": "markdown",
   "id": "c83bceea-469f-488f-834f-9d771a44bdd2",
   "metadata": {},
   "source": [
    "**Lectura Datos ADM**"
   ]
  },
  {
   "cell_type": "code",
   "execution_count": 80,
   "id": "59b82671-df7a-44c3-b111-581ab524d2c6",
   "metadata": {
    "scrolled": true
   },
   "outputs": [
    {
     "name": "stdout",
     "output_type": "stream",
     "text": [
      "Iniciando lectura ... \n",
      " \n",
      "\n",
      "raw_data\\2004\\PROCESO-DE-ADMISIÓN-2004-RENDICIÓN-17-12-2024T15-39-17\\Rinden_Admisión2004\\ArchivoC_Adm2004.csv\n",
      "raw_data\\2005\\PROCESO-DE-ADMISIÓN-2005-RENDICIÓN-17-12-2024T15-43-59\\Rinden_Admisión2005\\ArchivoC_Adm2005.csv\n",
      "raw_data\\2006\\PROCESO-DE-ADMISIÓN-2006-RENDICIÓN-17-12-2024T15-50-29\\Rinden_Admisión2006\\ArchivoC_Adm2006.csv\n",
      "raw_data\\2007\\PROCESO-DE-ADMISIÓN-2007-RENDICIÓN-17-12-2024T15-57-04\\Rinden_Admisión2007\\ArchivoC_Adm2007.csv\n",
      "raw_data\\2008\\PROCESO-DE-ADMISIÓN-2008-RENDICIÓN-17-12-2024T16-00-49\\Rinden_Admisión2008\\ArchivoC_Adm2008.csv\n",
      "raw_data\\2009\\PROCESO-DE-ADMISIÓN-2009-RENDICIÓN-17-12-2024T16-10-42\\Rinden_Admisión2009\\ArchivoC_Adm2009.csv\n",
      "raw_data\\2010\\PROCESO-DE-ADMISIÓN-2010-RENDICIÓN-17-12-2024T16-13-20\\Rinden_Admisión2010\\ArchivoC_Adm2010.csv\n",
      "raw_data\\2011\\PROCESO-DE-ADMISIÓN-2011-RENDICIÓN-17-12-2024T16-15-41\\Rinden_Admisión2011\\ArchivoC_Adm2011.csv\n",
      "raw_data\\2012\\PROCESO-DE-ADMISIÓN-2012-RENDICIÓN-17-12-2024T16-18-42\\Rinden_Admisión2012\\ArchivoC_Adm2012.csv\n",
      "raw_data\\2013\\PROCESO-DE-ADMISIÓN-2013-RENDICIÓN-17-12-2024T16-24-35\\Rinden_Admisión2013\\ArchivoC_Adm2013.csv\n",
      "raw_data\\2014\\PROCESO-DE-ADMISIÓN-2014-RENDICIÓN-17-12-2024T16-27-59\\Rinden_Admisión2014\\ArchivoC_Adm2014.csv\n",
      "raw_data\\2015\\PROCESO-DE-ADMISIÓN-2015-RENDICIÓN-17-12-2024T16-16-24\\Rinden_Admisión2015\\ArchivoC_Adm2015.csv\n",
      "raw_data\\2016\\PROCESO-DE-ADMISIÓN-2016-RENDICIÓN-10-01-2025T08-59-18\\Rinden_Admisión2016\\ArchivoC_Adm2016.csv\n",
      "raw_data\\2017\\PROCESO-DE-ADMISIÓN-2017-RENDICIÓN-17-12-2024T16-29-59\\Rinden_Admisión2017\\ArchivoC_Adm2017.csv\n",
      "raw_data\\2018\\PROCESO-DE-ADMISIÓN-2018-RENDICIÓN-17-12-2024T16-03-30\\Rinden_Admisión2018\\ArchivoC_Adm2018.csv\n",
      "raw_data\\2019\\PROCESO-DE-ADMISIÓN-2019-RENDICIÓN-17-12-2024T15-57-28\\Rinden_Admisión2019\\ArchivoC_Adm2019.csv\n",
      "raw_data\\2020\\PROCESO-DE-ADMISIÓN-2020-RENDICIÓN-17-12-2024T15-53-38\\Rinden_Admisión2020\\ArchivoC_Adm2020.csv\n",
      "raw_data\\2021\\PROCESO-DE-ADMISIÓN-2021-RENDICIÓN-17-12-2024T15-45-50\\Rinden_Admisión2021\\ArchivoC_Adm2021.csv\n",
      "raw_data\\2022\\PROCESO-DE-ADMISIÓN-2022-RENDICIÓN-17-12-2024T15-40-13\\Rinden_Admisión2022\\ArchivoC_Adm2022.csv\n",
      "raw_data\\2023\\PROCESO-DE-ADMISIÓN-2023-RENDICIÓN-17-12-2024T15-34-10\\Rinden_Admisión2023\\ArchivoC_Adm2023.csv\n",
      "raw_data\\2024\\PROCESO-DE-ADMISIÓN-2024-RENDICIÓN-17-12-2024T14-37-22\\Rinden_Admisión2024\\ArchivoC_Adm2024.csv\n",
      "raw_data\\2025\\PROCESO-DE-ADMISIÓN-2025-RENDICIÓN-19-01-2025T23-39-20\\Rinden_Admisión2025\\ArchivoC_Adm2025.csv\n",
      "\n",
      "\n",
      "Lectura correcta datos admision 2004-2025\n"
     ]
    }
   ],
   "source": [
    "adm = []   # adm> lista con  df admision por years \n",
    "\n",
    "#archivos de admision estan en  ArchivoC_Adm20xx\n",
    "print(\"Iniciando lectura ... \\n \\n\")\n",
    "for num in range(2004 ,2026):\n",
    "    ruta = Path(f\"raw_data/{num}\")\n",
    "    csv = ruta.glob(f\"**/ArchivoC_Adm{num}*.csv\")\n",
    "    \n",
    "    for archivo in csv:\n",
    "        print(archivo)\n",
    "        adm.append(pd.read_csv(archivo , sep = \";\" , low_memory=False))\n",
    "if len(adm) == 22:\n",
    "    print(\"\\n\\nLectura correcta datos admision 2004-2025\")\n",
    "else:\n",
    "    print(\"\\n\\n Error en la lectura de datos, faltan archivos/mala lectura\")"
   ]
  },
  {
   "cell_type": "code",
   "execution_count": null,
   "id": "29c37f8a-09bb-4d67-a3e0-da9dd92cc6eb",
   "metadata": {},
   "outputs": [],
   "source": []
  },
  {
   "cell_type": "code",
   "execution_count": 3,
   "id": "6591ef24-ae01-4358-9536-c32df56b4888",
   "metadata": {},
   "outputs": [
    {
     "name": "stdout",
     "output_type": "stream",
     "text": [
      "22\n",
      "22\n"
     ]
    }
   ],
   "source": [
    "comuna = []\n",
    "for num in range(2004, 2026):\n",
    "    num = str(num)\n",
    "    ruta = Path(f\"raw_data/{num}\")\n",
    "    exel = ruta.glob(\"**/*.xlsx\")\n",
    "    for i in exel:\n",
    "        if i.name == f\"Libro_CódigosADM{num}_ArchivoC.xlsx\" or  i.name == f\"Libro_CódigosADM{num} _ArchivoC.xlsx\": \n",
    "            #el or es por un error en como se llama el archivo en 2019\n",
    "            comuna.append(pd.read_excel(i, sheet_name=\"Anexo - ComunasRegiones\"))\n",
    "print(len(comuna))\n",
    "print(len(adm))\n"
   ]
  },
  {
   "cell_type": "code",
   "execution_count": 4,
   "id": "378cf48e-b5d8-4a34-8fbb-3a83bfbce971",
   "metadata": {
    "scrolled": true
   },
   "outputs": [
    {
     "name": "stdout",
     "output_type": "stream",
     "text": [
      "Iniciando lectura ... \n",
      " \n",
      "\n",
      "raw_data\\2018\\PROCESO-DE-ADMISIÓN-2018-MATRÍCULA-17-12-2024T16-04-30\\Matricula_Admisión2018\\ArchivoMatr_Adm2018.csv\n",
      "raw_data\\2019\\PROCESO-DE-ADMISIÓN-2019-MATRÍCULA-17-12-2024T15-59-24\\Matricula_Admisión2019\\ArchivoMatr_Adm2019.csv\n",
      "raw_data\\2020\\PROCESO-DE-ADMISIÓN-2020-MATRÍCULA-17-12-2024T15-54-39\\Matricula_Admisión2020\\ArchivoMatr_Adm2020.csv\n",
      "raw_data\\2021\\PROCESO-DE-ADMISIÓN-2021-MATRÍCULA-17-12-2024T15-46-44\\Matricula_Admisión2021\\ArchivoMatr_Adm2021.csv\n",
      "raw_data\\2022\\PROCESO-DE-ADMISIÓN-2022-MATRÍCULA-17-12-2024T15-42-10\\Matricula_Admisión2022\\ArchivoMatr_Adm2022.csv\n",
      "raw_data\\2023\\PROCESO-DE-ADMISIÓN-2023-MATRÍCULA-17-12-2024T15-35-09\\Matricula_Admisión2023\\ArchivoMatr_Adm2023.csv\n",
      "raw_data\\2024\\PROCESO-DE-ADMISIÓN-2024-MATRÍCULA-17-12-2024T14-38-28\\ArchivoMatr_Adm2024.csv\n",
      "raw_data\\2025\\PROCESO-DE-ADMISIÓN-2025-MATRÍCULA-23-04-2025T11-54-04\\Matricula_Admisión2025\\ArchivoMatr_Adm2025.csv\n",
      "\n",
      "\n",
      "Lectura correcta matricula 2018-2025\n"
     ]
    }
   ],
   "source": [
    "datos_egresado = []   # adm> lista con  df admision por years \n",
    "\n",
    "#archivos de admision estan en  ArchivoC_Adm20xx\n",
    "print(\"Iniciando lectura ... \\n \\n\")\n",
    "for num in range(2018 ,2026):\n",
    "    ruta = Path(f\"raw_data/{num}\")\n",
    "    csv = ruta.glob(f\"**/ArchivoMatr_Adm{num}*.csv\")\n",
    "    \n",
    "    for archivo in csv:\n",
    "        print(archivo)\n",
    "        datos_egresado.append(pd.read_csv(archivo , sep = \";\" , low_memory=False))\n",
    "if len(datos_egresado) == 8:\n",
    "    print(\"\\n\\nLectura correcta matricula 2018-2025\")\n",
    "else:\n",
    "    print(\"\\n\\n Error en la lectura de datos, faltan archivos/mala lectura\")\n"
   ]
  },
  {
   "cell_type": "code",
   "execution_count": 5,
   "id": "9b779eeb-35ef-41a2-98e3-2f5cc582eeb4",
   "metadata": {},
   "outputs": [],
   "source": [
    "#lectura pregunta 3.  carga datos ArchivoMat_Adm\n",
    "PATH = Path('raw_data')\n",
    "YEARS = range(2004, 2026)\n",
    "def cargar_matriculas():\n",
    "    registros = []\n",
    "    for anio in YEARS:\n",
    "        candidatos = list((PATH / str(anio)).glob('**/ArchivoMat_Adm*.csv'))\n",
    "        if not candidatos:\n",
    "            continue\n",
    "        for archivo in candidatos:\n",
    "            try:\n",
    "                df = pd.read_csv(\n",
    "                    archivo, sep=';', dtype={'ID_aux': 'string'},\n",
    "                    usecols=lambda c: c in {'ID_aux', 'CODIGO_UNIV', 'PTJE_POND'},\n",
    "                    low_memory=False,\n",
    "                )\n",
    "            except (TypeError, ValueError):\n",
    "                df = pd.read_csv(archivo, sep=';', dtype={'ID_aux': 'string'}, low_memory=False)\n",
    "                columnas = [c for c in ['ID_aux', 'CODIGO_UNIV', 'PTJE_POND'] if c in df.columns]\n",
    "                df = df[columnas]\n",
    "            if df.empty or 'ID_aux' not in df.columns:\n",
    "                continue\n",
    "            df['ID'] = df['ID_aux'].astype('string').str.strip().str.lower()\n",
    "            df['ANIO'] = anio\n",
    "            if 'PTJE_POND' in df.columns:\n",
    "                df['PTJE_POND'] = (\n",
    "                    df['PTJE_POND'].astype('string')\n",
    "                    .str.replace('.', '', regex=False)\n",
    "                    .str.replace(',', '.', regex=False)\n",
    "                )\n",
    "                df['PTJE_POND'] = pd.to_numeric(df['PTJE_POND'], errors='coerce')\n",
    "            registros.append(df[['ID', 'ANIO', 'CODIGO_UNIV', 'PTJE_POND']])\n",
    "    if registros:\n",
    "        mat = pd.concat(registros, ignore_index=True).dropna(subset=['ID'])\n",
    "        mat['ANIO'] = mat['ANIO'].astype(int)\n",
    "        return mat.drop_duplicates(subset=['ID', 'ANIO'], keep='last')\n",
    "    return pd.DataFrame(columns=['ID', 'ANIO', 'CODIGO_UNIV', 'PTJE_POND'])\n"
   ]
  },
  {
   "cell_type": "code",
   "execution_count": null,
   "id": "f6767f3b-3236-43cf-b501-97cf8f79ea27",
   "metadata": {},
   "outputs": [],
   "source": []
  },
  {
   "cell_type": "code",
   "execution_count": null,
   "id": "30e83974-5594-40d6-9c23-b0656efd8af9",
   "metadata": {},
   "outputs": [],
   "source": []
  },
  {
   "cell_type": "code",
   "execution_count": null,
   "id": "f6b69db0-09f1-4430-95c9-0323016e5458",
   "metadata": {},
   "outputs": [],
   "source": []
  },
  {
   "cell_type": "code",
   "execution_count": 6,
   "id": "f559d5ee-b402-480d-9608-ef271b370158",
   "metadata": {
    "scrolled": true
   },
   "outputs": [
    {
     "data": {
      "text/plain": [
       "'dataframes = []\\nprint(\"si\")\\n#idea, crear el dataframe\\nfor num in range(2004 ,2026):\\n    dataframe_actual = []\\n    num = str(num)\\n    ruta = Path(f\"raw_data/{num}\")\\n    csv = ruta.glob(\"**/*.csv\")\\n    exel = ruta.glob(\"**/*.xslx\")\\n\\n    for archivo in csv:\\n        dataframe_actual.append(pd.read_csv(archivo , sep = \";\" , low_memory=False))\\n    for archivo_e in exel:\\n        #excel da problemitas xdddd\\n        try:\\n            dataframe_actual.append(pd.read_excel(archivo_e , engine = \"openpyxl\"))\\n        finally:\\n            pass\\n\\n    dataframes.append(pd.concat(dataframe_actual, axis = 0))'"
      ]
     },
     "execution_count": 6,
     "metadata": {},
     "output_type": "execute_result"
    }
   ],
   "source": [
    "## no eliminar, me sirvio para generar mi codigo, saco ideas de aqui para la lectura de los demas, cuando sea necesario...\n",
    "\"\"\"dataframes = []\n",
    "print(\"si\")\n",
    "#idea, crear el dataframe\n",
    "for num in range(2004 ,2026):\n",
    "    dataframe_actual = []\n",
    "    num = str(num)\n",
    "    ruta = Path(f\"raw_data/{num}\")\n",
    "    csv = ruta.glob(\"**/*.csv\")\n",
    "    exel = ruta.glob(\"**/*.xslx\")\n",
    "    \n",
    "    for archivo in csv:\n",
    "        dataframe_actual.append(pd.read_csv(archivo , sep = \";\" , low_memory=False))\n",
    "    for archivo_e in exel:\n",
    "        #excel da problemitas xdddd\n",
    "        try:\n",
    "            dataframe_actual.append(pd.read_excel(archivo_e , engine = \"openpyxl\"))\n",
    "        finally:\n",
    "            pass\n",
    "\n",
    "    dataframes.append(pd.concat(dataframe_actual, axis = 0))\"\"\"\n",
    "\n",
    "\n",
    "                "
   ]
  },
  {
   "cell_type": "code",
   "execution_count": null,
   "id": "a24eefd5-2d60-461e-b434-883f6952654d",
   "metadata": {},
   "outputs": [],
   "source": []
  },
  {
   "cell_type": "markdown",
   "id": "06d9eb24-fd6a-4dd7-93a7-824157d059b9",
   "metadata": {},
   "source": [
    "**-Vista previa de los datos**"
   ]
  },
  {
   "cell_type": "code",
   "execution_count": 7,
   "id": "7402ce13-aafb-4d66-abd9-401228ed583a",
   "metadata": {
    "scrolled": true
   },
   "outputs": [
    {
     "data": {
      "text/html": [
       "<div>\n",
       "<style scoped>\n",
       "    .dataframe tbody tr th:only-of-type {\n",
       "        vertical-align: middle;\n",
       "    }\n",
       "\n",
       "    .dataframe tbody tr th {\n",
       "        vertical-align: top;\n",
       "    }\n",
       "\n",
       "    .dataframe thead th {\n",
       "        text-align: right;\n",
       "    }\n",
       "</style>\n",
       "<table border=\"1\" class=\"dataframe\">\n",
       "  <thead>\n",
       "    <tr style=\"text-align: right;\">\n",
       "      <th></th>\n",
       "      <th>ID_aux</th>\n",
       "      <th>GRUPO_DEPENDENCIA</th>\n",
       "      <th>RAMA</th>\n",
       "      <th>SITUACION_EGRESO</th>\n",
       "      <th>CODIGO_REGION</th>\n",
       "      <th>CODIGO_COMUNA</th>\n",
       "      <th>LENG_ACTUAL</th>\n",
       "      <th>MATE_ACTUAL</th>\n",
       "      <th>HCSO_ACTUAL</th>\n",
       "      <th>CIEN_ACTUAL</th>\n",
       "      <th>PROM_NOTAS</th>\n",
       "      <th>PTJE_NEM</th>\n",
       "    </tr>\n",
       "  </thead>\n",
       "  <tbody>\n",
       "    <tr>\n",
       "      <th>0</th>\n",
       "      <td>id_001160071115</td>\n",
       "      <td>3</td>\n",
       "      <td>T1</td>\n",
       "      <td>1</td>\n",
       "      <td>1</td>\n",
       "      <td>201.0</td>\n",
       "      <td>469</td>\n",
       "      <td>457</td>\n",
       "      <td>437</td>\n",
       "      <td>426</td>\n",
       "      <td>63</td>\n",
       "      <td>682</td>\n",
       "    </tr>\n",
       "    <tr>\n",
       "      <th>1</th>\n",
       "      <td>id_0016900171627</td>\n",
       "      <td>3</td>\n",
       "      <td>H2</td>\n",
       "      <td>5</td>\n",
       "      <td>3</td>\n",
       "      <td>240.0</td>\n",
       "      <td>492</td>\n",
       "      <td>457</td>\n",
       "      <td>513</td>\n",
       "      <td>0</td>\n",
       "      <td>53</td>\n",
       "      <td>481</td>\n",
       "    </tr>\n",
       "    <tr>\n",
       "      <th>2</th>\n",
       "      <td>id_0016900571641</td>\n",
       "      <td>3</td>\n",
       "      <td>T1</td>\n",
       "      <td>5</td>\n",
       "      <td>2</td>\n",
       "      <td>225.0</td>\n",
       "      <td>391</td>\n",
       "      <td>442</td>\n",
       "      <td>0</td>\n",
       "      <td>396</td>\n",
       "      <td>48</td>\n",
       "      <td>376</td>\n",
       "    </tr>\n",
       "    <tr>\n",
       "      <th>3</th>\n",
       "      <td>id_0028900472899</td>\n",
       "      <td>3</td>\n",
       "      <td>H1</td>\n",
       "      <td>1</td>\n",
       "      <td>8</td>\n",
       "      <td>415.0</td>\n",
       "      <td>353</td>\n",
       "      <td>487</td>\n",
       "      <td>402</td>\n",
       "      <td>0</td>\n",
       "      <td>48</td>\n",
       "      <td>373</td>\n",
       "    </tr>\n",
       "    <tr>\n",
       "      <th>4</th>\n",
       "      <td>id_004500078456</td>\n",
       "      <td>2</td>\n",
       "      <td>H2</td>\n",
       "      <td>1</td>\n",
       "      <td>10</td>\n",
       "      <td>510.0</td>\n",
       "      <td>430</td>\n",
       "      <td>425</td>\n",
       "      <td>451</td>\n",
       "      <td>0</td>\n",
       "      <td>54</td>\n",
       "      <td>501</td>\n",
       "    </tr>\n",
       "  </tbody>\n",
       "</table>\n",
       "</div>"
      ],
      "text/plain": [
       "             ID_aux  GRUPO_DEPENDENCIA RAMA  SITUACION_EGRESO  CODIGO_REGION  \\\n",
       "0   id_001160071115                  3   T1                 1              1   \n",
       "1  id_0016900171627                  3   H2                 5              3   \n",
       "2  id_0016900571641                  3   T1                 5              2   \n",
       "3  id_0028900472899                  3   H1                 1              8   \n",
       "4   id_004500078456                  2   H2                 1             10   \n",
       "\n",
       "   CODIGO_COMUNA  LENG_ACTUAL  MATE_ACTUAL  HCSO_ACTUAL  CIEN_ACTUAL  \\\n",
       "0          201.0          469          457          437          426   \n",
       "1          240.0          492          457          513            0   \n",
       "2          225.0          391          442            0          396   \n",
       "3          415.0          353          487          402            0   \n",
       "4          510.0          430          425          451            0   \n",
       "\n",
       "   PROM_NOTAS  PTJE_NEM  \n",
       "0          63       682  \n",
       "1          53       481  \n",
       "2          48       376  \n",
       "3          48       373  \n",
       "4          54       501  "
      ]
     },
     "execution_count": 7,
     "metadata": {},
     "output_type": "execute_result"
    }
   ],
   "source": [
    "#visualizacion carga datos adm\n",
    "adm[0].head()"
   ]
  },
  {
   "cell_type": "code",
   "execution_count": 8,
   "id": "54f18b57-9309-43c1-8cef-0be9e4dd852a",
   "metadata": {},
   "outputs": [
    {
     "data": {
      "text/html": [
       "<div>\n",
       "<style scoped>\n",
       "    .dataframe tbody tr th:only-of-type {\n",
       "        vertical-align: middle;\n",
       "    }\n",
       "\n",
       "    .dataframe tbody tr th {\n",
       "        vertical-align: top;\n",
       "    }\n",
       "\n",
       "    .dataframe thead th {\n",
       "        text-align: right;\n",
       "    }\n",
       "</style>\n",
       "<table border=\"1\" class=\"dataframe\">\n",
       "  <thead>\n",
       "    <tr style=\"text-align: right;\">\n",
       "      <th></th>\n",
       "      <th>ID_aux</th>\n",
       "      <th>RBD</th>\n",
       "      <th>COD_ENS</th>\n",
       "      <th>GRUPO_DEPENDENCIA</th>\n",
       "      <th>RAMA_EDUCACIONAL</th>\n",
       "      <th>SITUACION_EGRESO</th>\n",
       "      <th>CODIGO_REGION</th>\n",
       "      <th>CODIGO_COMUNA</th>\n",
       "      <th>PROMEDIO_NOTAS</th>\n",
       "      <th>PORC_SUP_NOTAS</th>\n",
       "      <th>...</th>\n",
       "      <th>MATE2_REG_ANTERIOR</th>\n",
       "      <th>HCSOC_REG_ANTERIOR</th>\n",
       "      <th>CIEN_REG_ANTERIOR</th>\n",
       "      <th>MODULO_REG_ANTERIOR</th>\n",
       "      <th>CLEC_INV_ANTERIOR</th>\n",
       "      <th>MATE1_INV_ANTERIOR</th>\n",
       "      <th>MATE2_INV_ANTERIOR</th>\n",
       "      <th>HCSOC_INV_ANTERIOR</th>\n",
       "      <th>CIEN_INV_ANTERIOR</th>\n",
       "      <th>MODULO_INV_ANTERIOR</th>\n",
       "    </tr>\n",
       "  </thead>\n",
       "  <tbody>\n",
       "    <tr>\n",
       "      <th>0</th>\n",
       "      <td>id_815728178577</td>\n",
       "      <td>11284.0</td>\n",
       "      <td>363.0</td>\n",
       "      <td>3.0</td>\n",
       "      <td>H2</td>\n",
       "      <td>1</td>\n",
       "      <td>6.0</td>\n",
       "      <td>6101.0</td>\n",
       "      <td>0</td>\n",
       "      <td>0</td>\n",
       "      <td>...</td>\n",
       "      <td>NaN</td>\n",
       "      <td>NaN</td>\n",
       "      <td>NaN</td>\n",
       "      <td>NaN</td>\n",
       "      <td>NaN</td>\n",
       "      <td>NaN</td>\n",
       "      <td>NaN</td>\n",
       "      <td>NaN</td>\n",
       "      <td>NaN</td>\n",
       "      <td>NaN</td>\n",
       "    </tr>\n",
       "    <tr>\n",
       "      <th>1</th>\n",
       "      <td>id_985329876535</td>\n",
       "      <td>20356.0</td>\n",
       "      <td>363.0</td>\n",
       "      <td>2.0</td>\n",
       "      <td>H2</td>\n",
       "      <td>1</td>\n",
       "      <td>4.0</td>\n",
       "      <td>4101.0</td>\n",
       "      <td>6,55</td>\n",
       "      <td>10</td>\n",
       "      <td>...</td>\n",
       "      <td>NaN</td>\n",
       "      <td>NaN</td>\n",
       "      <td>NaN</td>\n",
       "      <td>NaN</td>\n",
       "      <td>NaN</td>\n",
       "      <td>NaN</td>\n",
       "      <td>NaN</td>\n",
       "      <td>NaN</td>\n",
       "      <td>NaN</td>\n",
       "      <td>NaN</td>\n",
       "    </tr>\n",
       "    <tr>\n",
       "      <th>2</th>\n",
       "      <td>id_767127676717</td>\n",
       "      <td>14846.0</td>\n",
       "      <td>363.0</td>\n",
       "      <td>2.0</td>\n",
       "      <td>H2</td>\n",
       "      <td>1</td>\n",
       "      <td>5.0</td>\n",
       "      <td>5101.0</td>\n",
       "      <td>6,6</td>\n",
       "      <td>10</td>\n",
       "      <td>...</td>\n",
       "      <td>NaN</td>\n",
       "      <td>NaN</td>\n",
       "      <td>NaN</td>\n",
       "      <td>NaN</td>\n",
       "      <td>NaN</td>\n",
       "      <td>NaN</td>\n",
       "      <td>NaN</td>\n",
       "      <td>NaN</td>\n",
       "      <td>NaN</td>\n",
       "      <td>NaN</td>\n",
       "    </tr>\n",
       "    <tr>\n",
       "      <th>3</th>\n",
       "      <td>id_112621173264</td>\n",
       "      <td>NaN</td>\n",
       "      <td>NaN</td>\n",
       "      <td>NaN</td>\n",
       "      <td>NaN</td>\n",
       "      <td>5</td>\n",
       "      <td>NaN</td>\n",
       "      <td>NaN</td>\n",
       "      <td>6,15</td>\n",
       "      <td>10</td>\n",
       "      <td>...</td>\n",
       "      <td>616.0</td>\n",
       "      <td>0.0</td>\n",
       "      <td>0.0</td>\n",
       "      <td>NaN</td>\n",
       "      <td>NaN</td>\n",
       "      <td>NaN</td>\n",
       "      <td>NaN</td>\n",
       "      <td>NaN</td>\n",
       "      <td>NaN</td>\n",
       "      <td>NaN</td>\n",
       "    </tr>\n",
       "    <tr>\n",
       "      <th>4</th>\n",
       "      <td>id_497424971745</td>\n",
       "      <td>22633.0</td>\n",
       "      <td>363.0</td>\n",
       "      <td>2.0</td>\n",
       "      <td>H2</td>\n",
       "      <td>1</td>\n",
       "      <td>14.0</td>\n",
       "      <td>14101.0</td>\n",
       "      <td>6,4</td>\n",
       "      <td>10</td>\n",
       "      <td>...</td>\n",
       "      <td>NaN</td>\n",
       "      <td>NaN</td>\n",
       "      <td>NaN</td>\n",
       "      <td>NaN</td>\n",
       "      <td>NaN</td>\n",
       "      <td>NaN</td>\n",
       "      <td>NaN</td>\n",
       "      <td>NaN</td>\n",
       "      <td>NaN</td>\n",
       "      <td>NaN</td>\n",
       "    </tr>\n",
       "  </tbody>\n",
       "</table>\n",
       "<p>5 rows × 36 columns</p>\n",
       "</div>"
      ],
      "text/plain": [
       "            ID_aux      RBD  COD_ENS  GRUPO_DEPENDENCIA RAMA_EDUCACIONAL  \\\n",
       "0  id_815728178577  11284.0    363.0                3.0               H2   \n",
       "1  id_985329876535  20356.0    363.0                2.0               H2   \n",
       "2  id_767127676717  14846.0    363.0                2.0               H2   \n",
       "3  id_112621173264      NaN      NaN                NaN              NaN   \n",
       "4  id_497424971745  22633.0    363.0                2.0               H2   \n",
       "\n",
       "   SITUACION_EGRESO  CODIGO_REGION  CODIGO_COMUNA PROMEDIO_NOTAS  \\\n",
       "0                 1            6.0         6101.0              0   \n",
       "1                 1            4.0         4101.0           6,55   \n",
       "2                 1            5.0         5101.0            6,6   \n",
       "3                 5            NaN            NaN           6,15   \n",
       "4                 1           14.0        14101.0            6,4   \n",
       "\n",
       "   PORC_SUP_NOTAS  ...  MATE2_REG_ANTERIOR  HCSOC_REG_ANTERIOR  \\\n",
       "0               0  ...                 NaN                 NaN   \n",
       "1              10  ...                 NaN                 NaN   \n",
       "2              10  ...                 NaN                 NaN   \n",
       "3              10  ...               616.0                 0.0   \n",
       "4              10  ...                 NaN                 NaN   \n",
       "\n",
       "   CIEN_REG_ANTERIOR  MODULO_REG_ANTERIOR  CLEC_INV_ANTERIOR  \\\n",
       "0                NaN                  NaN                NaN   \n",
       "1                NaN                  NaN                NaN   \n",
       "2                NaN                  NaN                NaN   \n",
       "3                0.0                  NaN                NaN   \n",
       "4                NaN                  NaN                NaN   \n",
       "\n",
       "   MATE1_INV_ANTERIOR  MATE2_INV_ANTERIOR HCSOC_INV_ANTERIOR  \\\n",
       "0                 NaN                 NaN                NaN   \n",
       "1                 NaN                 NaN                NaN   \n",
       "2                 NaN                 NaN                NaN   \n",
       "3                 NaN                 NaN                NaN   \n",
       "4                 NaN                 NaN                NaN   \n",
       "\n",
       "   CIEN_INV_ANTERIOR  MODULO_INV_ANTERIOR  \n",
       "0                NaN                  NaN  \n",
       "1                NaN                  NaN  \n",
       "2                NaN                  NaN  \n",
       "3                NaN                  NaN  \n",
       "4                NaN                  NaN  \n",
       "\n",
       "[5 rows x 36 columns]"
      ]
     },
     "execution_count": 8,
     "metadata": {},
     "output_type": "execute_result"
    }
   ],
   "source": [
    "adm[21].head()"
   ]
  },
  {
   "cell_type": "code",
   "execution_count": null,
   "id": "95614e68-58a4-4b30-963f-edb43878194b",
   "metadata": {},
   "outputs": [],
   "source": []
  },
  {
   "cell_type": "code",
   "execution_count": null,
   "id": "df2d0de2-b701-44f0-9391-cd8c24f05a97",
   "metadata": {},
   "outputs": [],
   "source": []
  },
  {
   "cell_type": "markdown",
   "id": "4d0d1373-e7ca-405d-a71c-d66ec8fc47f9",
   "metadata": {},
   "source": [
    "###### Nota: Se me ocurrió la idea de visualizar cuánto sube en promedio el puntaje de la gente que da la PAES por segunda vez. \n",
    "###### ¿Vale la pena volver a darla?\n"
   ]
  },
  {
   "cell_type": "code",
   "execution_count": null,
   "id": "8f463491-7c9f-494b-8523-be404447be6f",
   "metadata": {},
   "outputs": [],
   "source": []
  },
  {
   "cell_type": "markdown",
   "id": "8bc7e208-d67f-428a-ad35-639e5ba715ab",
   "metadata": {},
   "source": [
    "## Limpieza de datos\n"
   ]
  },
  {
   "cell_type": "markdown",
   "id": "60880f53-f67c-4fb4-bc29-0ef35c8388bd",
   "metadata": {},
   "source": [
    "    - Eliminar null y datos inconsistentes\n",
    "    - Corregir errores\n",
    "    - Tratar con duplicados\n",
    "    - Renombrar columnas"
   ]
  },
  {
   "cell_type": "markdown",
   "id": "a63e7dd7-b903-4406-a85e-ba08616ae5c8",
   "metadata": {},
   "source": [
    "-**Eliminar null y datos inconsistentes**\n"
   ]
  },
  {
   "cell_type": "code",
   "execution_count": 55,
   "id": "755ad259-2a51-485c-b970-1fe621faae15",
   "metadata": {},
   "outputs": [],
   "source": [
    "for y in range(len(adm)):\n",
    "    adm[y].fillna(0,inplace=True)\n",
    "    \n"
   ]
  },
  {
   "cell_type": "code",
   "execution_count": null,
   "id": "8f907033-e42c-4885-81d6-1b280f142505",
   "metadata": {},
   "outputs": [],
   "source": [
    "\n"
   ]
  },
  {
   "cell_type": "code",
   "execution_count": null,
   "id": "05b11e21-9a4a-4e01-b8b1-04ea397f8fa4",
   "metadata": {},
   "outputs": [],
   "source": []
  },
  {
   "cell_type": "code",
   "execution_count": null,
   "id": "d99eee28-434e-4ebe-9c65-7cac06954ba9",
   "metadata": {},
   "outputs": [],
   "source": []
  },
  {
   "cell_type": "code",
   "execution_count": 81,
   "id": "61d50703-faec-4b9e-b139-e18b0a6db4cb",
   "metadata": {},
   "outputs": [],
   "source": []
  },
  {
   "cell_type": "code",
   "execution_count": null,
   "id": "fed6c903-0923-403a-b58b-8e8811825bad",
   "metadata": {},
   "outputs": [],
   "source": []
  },
  {
   "cell_type": "code",
   "execution_count": null,
   "id": "74bd82c0-e14b-44f5-bbc3-25da6a2702bf",
   "metadata": {},
   "outputs": [],
   "source": []
  },
  {
   "cell_type": "code",
   "execution_count": null,
   "id": "985671df-26ea-45bc-b6a7-0c63c42e1455",
   "metadata": {},
   "outputs": [],
   "source": []
  },
  {
   "cell_type": "code",
   "execution_count": null,
   "id": "9a258678-a787-4b4e-b350-97ee830313ea",
   "metadata": {},
   "outputs": [],
   "source": []
  },
  {
   "cell_type": "code",
   "execution_count": null,
   "id": "f171ecbb-1b0d-4ce4-bb87-eea26350e93a",
   "metadata": {},
   "outputs": [],
   "source": []
  },
  {
   "cell_type": "code",
   "execution_count": null,
   "id": "3484305c-f6c9-4776-ad78-3590a8e92115",
   "metadata": {},
   "outputs": [],
   "source": []
  },
  {
   "cell_type": "code",
   "execution_count": null,
   "id": "3930fdd7-f028-44e1-adf6-d1a27c28321c",
   "metadata": {},
   "outputs": [],
   "source": []
  },
  {
   "cell_type": "code",
   "execution_count": null,
   "id": "69786669-042f-4d56-a903-eb9556139ae8",
   "metadata": {},
   "outputs": [],
   "source": []
  },
  {
   "cell_type": "code",
   "execution_count": null,
   "id": "30a4e224-3570-4b9e-999d-8c20a6b91b8d",
   "metadata": {
    "scrolled": true
   },
   "outputs": [],
   "source": [
    "adm[0].head()"
   ]
  },
  {
   "cell_type": "code",
   "execution_count": null,
   "id": "b95b56e1-29f6-4c4f-a62e-4436c871dff2",
   "metadata": {
    "scrolled": true
   },
   "outputs": [],
   "source": [
    "adm[8].head()"
   ]
  },
  {
   "cell_type": "markdown",
   "id": "e3af4e04-c670-4862-8026-db17fc7eec47",
   "metadata": {},
   "source": [
    "**-Corregir errores**\n"
   ]
  },
  {
   "cell_type": "code",
   "execution_count": null,
   "id": "2a159d50-d941-4ed9-a30c-e4f39f1a77f0",
   "metadata": {},
   "outputs": [],
   "source": []
  },
  {
   "cell_type": "markdown",
   "id": "9f8641e7-1493-44bf-ab20-ebac5eec9e50",
   "metadata": {},
   "source": [
    "**-Tratar con duplicados**\n"
   ]
  },
  {
   "cell_type": "code",
   "execution_count": null,
   "id": "3eff505f-7519-4ad4-b581-9a2ed3729e22",
   "metadata": {},
   "outputs": [],
   "source": []
  },
  {
   "cell_type": "markdown",
   "id": "a5ba2081-5ad6-4de3-a510-3ca039d9cfc7",
   "metadata": {},
   "source": [
    "**-Renombrar columnas**"
   ]
  },
  {
   "cell_type": "code",
   "execution_count": null,
   "id": "b9ae5779-e6b0-48c8-a2b2-7f590bff809a",
   "metadata": {},
   "outputs": [],
   "source": []
  },
  {
   "cell_type": "code",
   "execution_count": null,
   "id": "5b7331ba-afe8-42ef-891b-8fc2618fa6ad",
   "metadata": {},
   "outputs": [],
   "source": []
  },
  {
   "cell_type": "markdown",
   "id": "4d2666ab-d47a-43d8-b857-c753dc6a8c1d",
   "metadata": {
    "jp-MarkdownHeadingCollapsed": true
   },
   "source": [
    "## Análisis de los Datos(EDA)\n"
   ]
  },
  {
   "cell_type": "markdown",
   "id": "5ec5d3a5-d160-4931-a0ed-b085d0376323",
   "metadata": {},
   "source": [
    "    - Juntar bases\n",
    "    - Hacer gráficos\n",
    "    - ..."
   ]
  },
  {
   "cell_type": "code",
   "execution_count": null,
   "id": "7112bcfb-fe97-4289-9910-0056aa6d89b2",
   "metadata": {},
   "outputs": [],
   "source": []
  },
  {
   "cell_type": "code",
   "execution_count": null,
   "id": "2a463d91-2207-4ff3-8e49-30e8d62c7c15",
   "metadata": {},
   "outputs": [],
   "source": []
  },
  {
   "cell_type": "code",
   "execution_count": null,
   "id": "a3200cb8-9d56-4947-9d45-9ed80ddc1af6",
   "metadata": {},
   "outputs": [],
   "source": []
  },
  {
   "cell_type": "code",
   "execution_count": null,
   "id": "310e3807-117a-4a6e-97a3-a2ad93a993ca",
   "metadata": {},
   "outputs": [],
   "source": []
  },
  {
   "cell_type": "code",
   "execution_count": null,
   "id": "3fa81b12-0bb3-4f60-a399-2e413af6db2a",
   "metadata": {},
   "outputs": [],
   "source": []
  },
  {
   "cell_type": "code",
   "execution_count": null,
   "id": "d989b3a1-aacb-437d-81b4-76a01de932c4",
   "metadata": {},
   "outputs": [],
   "source": []
  },
  {
   "cell_type": "code",
   "execution_count": null,
   "id": "6d5d9726-c52c-47f1-9e45-cd1e1269a174",
   "metadata": {},
   "outputs": [],
   "source": []
  },
  {
   "cell_type": "code",
   "execution_count": null,
   "id": "b6b30c67-f366-4c76-b3e9-30ab7976e4dc",
   "metadata": {},
   "outputs": [],
   "source": []
  },
  {
   "cell_type": "code",
   "execution_count": null,
   "id": "27464a3c-b3ae-439f-8564-ee98216255e8",
   "metadata": {},
   "outputs": [],
   "source": []
  },
  {
   "cell_type": "code",
   "execution_count": null,
   "id": "159b76c7-b0b7-4117-b012-e2fc945fe3af",
   "metadata": {},
   "outputs": [],
   "source": []
  },
  {
   "cell_type": "code",
   "execution_count": null,
   "id": "c443376b-4d1f-4ee2-aace-d89dd7136d04",
   "metadata": {},
   "outputs": [],
   "source": []
  },
  {
   "cell_type": "code",
   "execution_count": null,
   "id": "e886937f-da3a-4145-86c4-96a4348684f3",
   "metadata": {},
   "outputs": [],
   "source": []
  },
  {
   "cell_type": "code",
   "execution_count": null,
   "id": "4600d803-8d3b-4e33-999e-dfd1b2343c11",
   "metadata": {},
   "outputs": [],
   "source": []
  },
  {
   "cell_type": "code",
   "execution_count": null,
   "id": "21f29704-7806-4000-9987-7caa932a6988",
   "metadata": {},
   "outputs": [],
   "source": []
  },
  {
   "cell_type": "code",
   "execution_count": null,
   "id": "a4a4b157-59cb-4c58-b6b1-4be9e3a261e7",
   "metadata": {},
   "outputs": [],
   "source": []
  },
  {
   "cell_type": "code",
   "execution_count": null,
   "id": "fff9599e-bfb5-4fa8-9d1c-1a011b45b901",
   "metadata": {},
   "outputs": [],
   "source": []
  },
  {
   "cell_type": "code",
   "execution_count": null,
   "id": "953f1bbb-80b0-4502-8098-6bf4e6312a73",
   "metadata": {},
   "outputs": [],
   "source": []
  },
  {
   "cell_type": "code",
   "execution_count": null,
   "id": "67f35d0a-ca60-4436-8158-77e6e8d40b1a",
   "metadata": {},
   "outputs": [],
   "source": []
  },
  {
   "cell_type": "code",
   "execution_count": null,
   "id": "4d01e5ac-8d3b-4bd3-98be-829ad04242ac",
   "metadata": {},
   "outputs": [],
   "source": []
  },
  {
   "cell_type": "code",
   "execution_count": null,
   "id": "3829e117-e1c1-46fd-b902-dd3d21d32942",
   "metadata": {},
   "outputs": [],
   "source": []
  },
  {
   "cell_type": "code",
   "execution_count": null,
   "id": "20be8e99-d4c9-4781-9845-334ed2bf4cda",
   "metadata": {},
   "outputs": [],
   "source": []
  },
  {
   "cell_type": "code",
   "execution_count": null,
   "id": "6fe85f86-e365-48b9-a2de-e7480ccab0cb",
   "metadata": {},
   "outputs": [],
   "source": []
  },
  {
   "cell_type": "markdown",
   "id": "cd1d198c-d5cd-4de7-aff8-e5c32d566026",
   "metadata": {},
   "source": [
    "## PREGUNTAS DE INVESTIGACIÓN "
   ]
  },
  {
   "cell_type": "code",
   "execution_count": null,
   "id": "ce94b349-2ad3-4a23-b115-511207c883b0",
   "metadata": {},
   "outputs": [],
   "source": []
  },
  {
   "cell_type": "markdown",
   "id": "70cb4ce2-645b-4197-8574-b85b0391fa91",
   "metadata": {
    "jp-MarkdownHeadingCollapsed": true
   },
   "source": [
    "### Pregunta 1.\n",
    "###### ¿Cuántas personas se inscribieron en cada periodo de admisión entre 2004 y 2025?"
   ]
  },
  {
   "cell_type": "code",
   "execution_count": null,
   "id": "9f258c93-b571-4ebf-9d55-8984b61fcc97",
   "metadata": {},
   "outputs": [],
   "source": [
    "tmp =[]\n",
    "for x in range(len(adm)):\n",
    "    tmp.append(adm[x].shape[0])\n",
    "print(tmp)"
   ]
  },
  {
   "cell_type": "code",
   "execution_count": null,
   "id": "e7018477-42d0-42fb-88d5-661d449f878b",
   "metadata": {},
   "outputs": [],
   "source": [
    "tmp = [153982, 169888, 176778, 212889, 218261,\n",
    "       243809, 253236, 252402, 242661, 244707,\n",
    "       243596, 257852,266494, 269351, 274498,\n",
    "       278287, 292091,238818, 254191, 293865,\n",
    "       306497, 311084]\n",
    "\n",
    "years = list(range(2004, 2026))\n",
    "\n",
    "\n",
    "plt.figure(figsize=(20, 10))\n",
    "plt.plot(years, tmp, marker='o', linestyle='-', color='b')\n",
    "plt.title('Valores por years 2004-2025', fontsize=16)\n",
    "plt.xlabel('Year', fontsize=12)\n",
    "plt.ylabel('Valor (adm[x].shape[0])', fontsize=12)\n",
    "plt.xticks(years, rotation=45)\n",
    "plt.grid(True)\n",
    "plt.tight_layout()\n",
    "\n",
    "plt.show()"
   ]
  },
  {
   "cell_type": "code",
   "execution_count": null,
   "id": "e4dcaafe-1ac1-45dc-baba-8ad4fc31cad0",
   "metadata": {},
   "outputs": [],
   "source": []
  },
  {
   "cell_type": "markdown",
   "id": "8fcb84a9-6df7-47b1-8d31-4fe8ca368fad",
   "metadata": {},
   "source": [
    "##### Podemos ver el grafico como ha habiado un aumento en las inscripciones a la prueba de educacion superios.\n",
    "##### A su vez, logramos identificar la cantidad de inscripciones por año."
   ]
  },
  {
   "cell_type": "code",
   "execution_count": null,
   "id": "ad3da7bb-8b7b-4893-8205-d14bef98eebf",
   "metadata": {},
   "outputs": [],
   "source": []
  },
  {
   "cell_type": "code",
   "execution_count": null,
   "id": "98b6dab1-35c7-45a8-aa2d-d5a5258f8cc9",
   "metadata": {},
   "outputs": [],
   "source": []
  },
  {
   "cell_type": "code",
   "execution_count": null,
   "id": "a6e15310-d781-4ab8-8b33-3d9dc39ffbab",
   "metadata": {},
   "outputs": [],
   "source": []
  },
  {
   "cell_type": "code",
   "execution_count": null,
   "id": "9efcec06-3736-4ba9-88ec-54baee19daf8",
   "metadata": {},
   "outputs": [],
   "source": []
  },
  {
   "cell_type": "code",
   "execution_count": null,
   "id": "f6596183-3d7f-4097-a789-1b796c7eec53",
   "metadata": {},
   "outputs": [],
   "source": []
  },
  {
   "cell_type": "markdown",
   "id": "de7097b8-905e-49a0-bb7d-52b96721ec7c",
   "metadata": {
    "jp-MarkdownHeadingCollapsed": true
   },
   "source": [
    "### Pregunta 2.\n",
    "###### ¿Hubo un aumento en las inscripciones en los periodos de transición (PSU/PTU/PAES)? "
   ]
  },
  {
   "cell_type": "code",
   "execution_count": null,
   "id": "e3f9d3b5-5233-49da-a007-f7c00113dfdd",
   "metadata": {},
   "outputs": [],
   "source": [
    "# PSU del 2004 al 2020 como ultimo año\n",
    "tmp = [153982, 169888, 176778, 212889, 218261,\n",
    "       243809, 253236, 252402, 242661, 244707,\n",
    "       243596, 257852,266494, 269351, 274498,\n",
    "       278287, 292091]\n",
    "\n",
    "years = list(range(2004, 2021))\n",
    "\n",
    "plt.figure(figsize=(20, 10))\n",
    "plt.plot(years, tmp, marker='o', linestyle='-', color='b')\n",
    "plt.title('Valores por years PSU', fontsize=16)\n",
    "plt.xlabel('Year', fontsize=12)\n",
    "plt.ylabel('Valor (adm[x].shape[0])', fontsize=12)\n",
    "plt.xticks(years, rotation=45)\n",
    "plt.grid(True)\n",
    "plt.tight_layout()\n",
    "\n",
    "plt.show()"
   ]
  },
  {
   "cell_type": "code",
   "execution_count": null,
   "id": "32f54ab7-5a93-4722-8463-111c85f3f6a7",
   "metadata": {},
   "outputs": [],
   "source": []
  },
  {
   "cell_type": "code",
   "execution_count": null,
   "id": "39f04ed2-4c33-4b93-b85a-120696a15ffa",
   "metadata": {},
   "outputs": [],
   "source": [
    "#PTU se hizo en el año 2021 y 2022\n",
    "tmp =[238818, 254191]\n",
    "years = [2021, 2022]\n",
    "\n",
    "plt.figure(figsize=(20, 10))\n",
    "plt.plot(years, tmp, marker='o', linestyle='-', color='b')\n",
    "plt.title('Valores por years PTU', fontsize=16)\n",
    "plt.xlabel('Year', fontsize=12)\n",
    "plt.ylabel('Valor (adm[x].shape[0])', fontsize=12)\n",
    "plt.xticks(years, rotation=45)\n",
    "plt.grid(True)\n",
    "plt.tight_layout()\n",
    "\n",
    "plt.show()"
   ]
  },
  {
   "cell_type": "code",
   "execution_count": null,
   "id": "44715082-bfd6-4548-ae3a-4c7079a94ce7",
   "metadata": {},
   "outputs": [],
   "source": [
    "#PAES 2023 y 2025\n",
    "tmp= [293865,306497, 311084]\n",
    "years = [2023, 2024, 2025]\n",
    "\n",
    "plt.figure(figsize=(20,10))\n",
    "plt.plot(years, tmp, marker='o', linestyle='-', color='b')\n",
    "plt.title('Valores por years PAES', fontsize=16)\n",
    "plt.xlabel('Year', fontsize=12)\n",
    "plt.ylabel('Valor (adm[x].shape[0])', fontsize=12)\n",
    "plt.xticks(years, rotation=45)\n",
    "plt.grid(True)\n",
    "plt.tight_layout()\n",
    "\n",
    "plt.show()"
   ]
  },
  {
   "cell_type": "markdown",
   "id": "b1af11cc-00f1-4372-a2ae-7ebc4b723a61",
   "metadata": {},
   "source": [
    "##### Ahi podemos ver los distintos graficos de la PSU, PTU y PAES   (falta escribir mas, analizar y juntar los 4 grafifcos en 1, en la clase pasada mostraron como ahcerl, lo hago luego)"
   ]
  },
  {
   "cell_type": "code",
   "execution_count": null,
   "id": "d056bb0a-c406-4f2c-8df1-97b870a1782c",
   "metadata": {},
   "outputs": [],
   "source": []
  },
  {
   "cell_type": "code",
   "execution_count": null,
   "id": "e8ec3487-1ca8-43a5-b87a-70ddcc3858f0",
   "metadata": {},
   "outputs": [],
   "source": []
  },
  {
   "cell_type": "code",
   "execution_count": null,
   "id": "ed813cad-29d1-4fe8-97d9-d76ddb9365db",
   "metadata": {},
   "outputs": [],
   "source": []
  },
  {
   "cell_type": "code",
   "execution_count": null,
   "id": "961f4ab5-705a-4caa-80cf-ebae36b401d5",
   "metadata": {},
   "outputs": [],
   "source": []
  },
  {
   "cell_type": "code",
   "execution_count": null,
   "id": "eade0310-8dc9-4a94-8022-b41594f53415",
   "metadata": {},
   "outputs": [],
   "source": []
  },
  {
   "cell_type": "code",
   "execution_count": null,
   "id": "514f59e3-9b1d-4623-9c03-1553684325fc",
   "metadata": {},
   "outputs": [],
   "source": []
  },
  {
   "cell_type": "markdown",
   "id": "8a628287-36e9-4759-92d0-372f429c1535",
   "metadata": {},
   "source": [
    "### Pregunta 3.\n",
    "###### Según el grupo socioeconómico, ¿cuál fue el porcentaje de ingresos en las distintas universidades?\n"
   ]
  },
  {
   "cell_type": "code",
   "execution_count": null,
   "id": "805eea8d-f661-42f3-ade4-1ffc85256de2",
   "metadata": {},
   "outputs": [],
   "source": [
    "# corregir para la proxima entrega\n",
    "#universidad--grupo 1--grupo 2--grupo 3\n",
    "#puc        --  33%  --  42%  -- 25%\n",
    "#chile     --  43%  --  42%  -- 15%\n",
    "#adolfo    --  23%  --  52%  -- 25%\n",
    "#....\n",
    "\n",
    "#grafico\n",
    "\n",
    "mat_all = cargar_matriculas()\n",
    "if mat_all.empty:\n",
    "    raise ValueError('No se encontraron archivos de matrícula en las carpetas especificadas.')\n",
    "\n",
    "mat_lookup = mat_all.set_index(['ID', 'ANIO'])\n",
    "mat_keys = set(mat_lookup.index)\n",
    "pond_lookup = mat_lookup['PTJE_POND'].to_dict()\n",
    "univ_lookup = mat_lookup['CODIGO_UNIV'].to_dict()\n",
    "\n",
    "total_por_egr_list = []\n",
    "mat_por_egr_list = []\n",
    "matriculados_chunks = []\n",
    "\n",
    "for anio in YEARS:\n",
    "    archivos = list((PATH / str(anio)).glob('**/ArchivoC_Adm*.csv'))\n",
    "    if not archivos:\n",
    "        continue\n",
    "    print(f'Procesando admisión {anio} ({len(archivos)} archivos)...')\n",
    "    for archivo in archivos:\n",
    "        df = pd.read_csv(archivo, sep=';', dtype={'ID_aux': 'string'}, low_memory=False)\n",
    "        columnas = [c for c in ['ID_aux', 'SITUACION_EGRESO', 'CODIGO_COMUNA', 'GRUPO_DEPENDENCIA'] if c in df.columns]\n",
    "        if 'ID_aux' not in columnas:\n",
    "            continue\n",
    "        df = df[columnas].copy()\n",
    "        df['ID'] = df['ID_aux'].astype('string').str.strip().str.lower()\n",
    "        df['ANIO'] = anio\n",
    "        sit_numeric = pd.to_numeric(df.get('SITUACION_EGRESO'), errors='coerce')\n",
    "        df['SIT_EGRESO_STR'] = sit_numeric.fillna(-1).astype(int).astype(str)\n",
    "        df.loc[sit_numeric.isna(), 'SIT_EGRESO_STR'] = 'Desconocido'\n",
    "        df['CODIGO_COMUNA'] = pd.to_numeric(df.get('CODIGO_COMUNA'), errors='coerce')\n",
    "        df['GRUPO_DEPENDENCIA'] = pd.to_numeric(df.get('GRUPO_DEPENDENCIA'), errors='coerce')\n",
    "        df['key'] = list(zip(df['ID'], df['ANIO']))\n",
    "        df['MATRICULADO'] = df['key'].isin(mat_keys)\n",
    "\n",
    "        total_por_egr_list.append(\n",
    "            df['SIT_EGRESO_STR'].value_counts(dropna=False).rename_axis('SIT_EGRESO_STR').reset_index(name='n_total')\n",
    "        )\n",
    "\n",
    "        matriculados_df = df[df['MATRICULADO']].copy()\n",
    "        if matriculados_df.empty:\n",
    "            continue\n",
    "\n",
    "        mat_por_egr_list.append(\n",
    "            matriculados_df['SIT_EGRESO_STR'].value_counts(dropna=False).rename_axis('SIT_EGRESO_STR').reset_index(name='n_matriculados')\n",
    "        )\n",
    "\n",
    "        matriculados_df['PTJE_POND'] = matriculados_df['key'].map(pond_lookup)\n",
    "        matriculados_df['CODIGO_UNIV'] = matriculados_df['key'].map(univ_lookup)\n",
    "        matriculados_chunks.append(\n",
    "            matriculados_df[['CODIGO_COMUNA', 'GRUPO_DEPENDENCIA', 'SIT_EGRESO_STR', 'PTJE_POND', 'CODIGO_UNIV']].copy()\n",
    "        )\n",
    "\n",
    "if not total_por_egr_list:\n",
    "    raise ValueError('No se encontraron archivos de admisión para procesar.')\n",
    "\n",
    "total_por_egr = (\n",
    "    pd.concat(total_por_egr_list, ignore_index=True).groupby('SIT_EGRESO_STR', as_index=False)['n_total'].sum())\n",
    "\n",
    "if mat_por_egr_list:mat_por_egr = (pd.concat(mat_por_egr_list, ignore_index=True).groupby('SIT_EGRESO_STR', as_index=False)['n_matriculados'].sum())\n",
    "else:\n",
    "    mat_por_egr = pd.DataFrame(columns=['SIT_EGRESO_STR', 'n_matriculados'])\n",
    "\n",
    "if matriculados_chunks:\n",
    "    matriculados_all = pd.concat(matriculados_chunks, ignore_index=True)\n",
    "else:\n",
    "    matriculados_all = pd.DataFrame(columns=['CODIGO_COMUNA', 'GRUPO_DEPENDENCIA', 'SIT_EGRESO_STR', 'PTJE_POND', 'CODIGO_UNIV'])\n",
    "\n",
    "matriculados_totales = len(matriculados_all)\n",
    "print(f\"\\nTotal de matriculados encontrados en todas las fuentes: {matriculados_totales:,}\")\n",
    "\n",
    "if matriculados_totales:\n",
    "    df_comuna = (\n",
    "        matriculados_all.dropna(subset=['CODIGO_COMUNA'])\n",
    "        .assign(CODIGO_COMUNA=lambda d: d['CODIGO_COMUNA'].astype(int))\n",
    "        .value_counts('CODIGO_COMUNA')\n",
    "        .rename('matriculados')\n",
    "        .reset_index()\n",
    "        .assign(porcentaje=lambda d: 100 * d['matriculados'] / matriculados_totales)\n",
    "        .sort_values('porcentaje', ascending=False)\n",
    "    )\n",
    "\n",
    "    df_dep = (\n",
    "        matriculados_all.dropna(subset=['GRUPO_DEPENDENCIA'])\n",
    "        .assign(GRUPO_DEPENDENCIA=lambda d: d['GRUPO_DEPENDENCIA'].astype(int))\n",
    "        .value_counts('GRUPO_DEPENDENCIA')\n",
    "        .rename('matriculados')\n",
    "        .reset_index()\n",
    "        .assign(porcentaje=lambda d: 100 * d['matriculados'] / matriculados_totales)\n",
    "        .sort_values('GRUPO_DEPENDENCIA')\n",
    "    )\n",
    "\n",
    "    df_univ_dep = (\n",
    "        matriculados_all.dropna(subset=['CODIGO_UNIV', 'GRUPO_DEPENDENCIA'])\n",
    "        .assign(CODIGO_UNIV=lambda d: d['CODIGO_UNIV'].astype(int),\n",
    "                GRUPO_DEPENDENCIA=lambda d: d['GRUPO_DEPENDENCIA'].astype(int))\n",
    "        .value_counts(['CODIGO_UNIV', 'GRUPO_DEPENDENCIA'])\n",
    "        .rename('matriculados')\n",
    "        .reset_index()\n",
    "    )\n",
    "    if not df_univ_dep.empty:\n",
    "        df_univ_dep['porcentaje_en_univ'] = (\n",
    "            df_univ_dep['matriculados'] / df_univ_dep.groupby('CODIGO_UNIV')['matriculados'].transform('sum') * 100\n",
    "        )\n",
    "        df_univ_dep = df_univ_dep.sort_values('porcentaje_en_univ', ascending=False).reset_index(drop=True)\n",
    "        df_univ_dep['RANGO_TOP'] = df_univ_dep.index + 1\n",
    "else:\n",
    "    df_comuna = pd.DataFrame(columns=['CODIGO_COMUNA', 'matriculados', 'porcentaje'])\n",
    "    df_dep = pd.DataFrame(columns=['GRUPO_DEPENDENCIA', 'matriculados', 'porcentaje'])\n",
    "    df_univ_dep = pd.DataFrame(columns=['CODIGO_UNIV', 'GRUPO_DEPENDENCIA', 'matriculados', 'porcentaje_en_univ', 'RANGO_TOP'])\n",
    "\n",
    "print('\\n--- PREGUNTA 3: % de ingresos por comuna (top 20) ---')\n",
    "display(df_comuna.head(20))\n",
    "print('\\n--- PREGUNTA 3: distribución por grupo de dependencia ---')\n",
    "display(df_dep)\n",
    "if not df_univ_dep.empty:\n",
    "    print('\\n--- PREGUNTA 3: participación por grupo de dependencia dentro de cada universidad (top 30) ---')\n",
    "    display(df_univ_dep.head(30))\n",
    "\n",
    "if not matriculados_all.empty:\n",
    "    pond_prom = (\n",
    "        matriculados_all.dropna(subset=['PTJE_POND'])\n",
    "        .groupby('SIT_EGRESO_STR')['PTJE_POND']\n",
    "        .mean()\n",
    "        .reset_index(name='promedio_ptje_ponderado')\n",
    "    )\n",
    "else:\n",
    "    pond_prom = pd.DataFrame(columns=['SIT_EGRESO_STR', 'promedio_ptje_ponderado'])\n",
    "\n",
    "total_por_egr = total_por_egr[total_por_egr['SIT_EGRESO_STR'] != \"Desconocido\"]\n",
    "mat_por_egr = mat_por_egr[mat_por_egr['SIT_EGRESO_STR'] != \"Desconocido\"]\n"
   ]
  },
  {
   "cell_type": "code",
   "execution_count": null,
   "id": "f00fa557-e990-4590-b661-248b6c67a4d6",
   "metadata": {},
   "outputs": [],
   "source": []
  },
  {
   "cell_type": "code",
   "execution_count": null,
   "id": "2a85d5a3-4538-4261-9f73-9e6ab873a819",
   "metadata": {},
   "outputs": [],
   "source": []
  },
  {
   "cell_type": "code",
   "execution_count": null,
   "id": "c43a6c3f-e18f-442f-9952-f5d6dba25d43",
   "metadata": {},
   "outputs": [],
   "source": []
  },
  {
   "cell_type": "code",
   "execution_count": null,
   "id": "b4113b4d-1c2a-4212-89eb-c0d3c33f81da",
   "metadata": {},
   "outputs": [],
   "source": []
  },
  {
   "cell_type": "code",
   "execution_count": null,
   "id": "f2ae8a7a-baac-45e8-b0ee-451b4c38ad82",
   "metadata": {},
   "outputs": [],
   "source": []
  },
  {
   "cell_type": "code",
   "execution_count": null,
   "id": "a3c501da-e23b-4d65-a134-7791dfe01848",
   "metadata": {},
   "outputs": [],
   "source": []
  },
  {
   "cell_type": "markdown",
   "id": "9ba3f2e6",
   "metadata": {
    "jp-MarkdownHeadingCollapsed": true
   },
   "source": [
    "### Pregunta 4.\n",
    "###### ¿Qué comunas presentaron los mayores porcentajes de ingresos a la educación superior?\n"
   ]
  },
  {
   "cell_type": "code",
   "execution_count": null,
   "id": "285f36b5-f50c-485a-9b17-bc4401ab1630",
   "metadata": {},
   "outputs": [],
   "source": []
  },
  {
   "cell_type": "markdown",
   "id": "ba20ee80",
   "metadata": {},
   "source": [
    "para detectar cuales son las comunas con mayor porcentaje, primero necesitamos analizar cual es la comuna de cada numero en la columna Codigo comuna"
   ]
  },
  {
   "cell_type": "code",
   "execution_count": null,
   "id": "14e22a96",
   "metadata": {},
   "outputs": [],
   "source": []
  },
  {
   "cell_type": "code",
   "execution_count": null,
   "id": "32eefca0",
   "metadata": {},
   "outputs": [],
   "source": [
    "adm[0].head()"
   ]
  },
  {
   "cell_type": "markdown",
   "id": "92af2b41",
   "metadata": {},
   "source": [
    "#### Ahora hemos obtenido el nombre de la comuna con su codigo ahora , abriremos el dataframe con los datos de los egresados, para posteriormente unirlas en un dataframe,es importante aclarar que solo se pueden tomar datos desde el 2018, puesto que desde ese año existe el apartado \"matricula\""
   ]
  },
  {
   "cell_type": "code",
   "execution_count": null,
   "id": "43015c07",
   "metadata": {},
   "outputs": [],
   "source": [
    "\n",
    "\n",
    "\n"
   ]
  },
  {
   "cell_type": "code",
   "execution_count": null,
   "id": "7f0d8b00",
   "metadata": {},
   "outputs": [],
   "source": [
    "datos_adm = adm[14:len(adm)]\n",
    "\n",
    "columna = ['ID_aux', 'CODIGO_REGION', 'CODIGO_COMUNA']\n",
    "for df in range(len(datos_adm)):\n",
    "    datos_adm[df] = datos_adm[df][columna]\n",
    "    \n",
    "datos_adm[1].head()\n",
    "\n"
   ]
  },
  {
   "cell_type": "code",
   "execution_count": null,
   "id": "9e3c8a47",
   "metadata": {},
   "outputs": [],
   "source": [
    "datos_final = []\n",
    "for i in range((len(datos_adm))):\n",
    "    datos_final.append(pd.merge(datos_adm[i] , datos_egresado[i], on = 'ID_aux', how='inner'))\n",
    "\n",
    "datos_final[1].head() "
   ]
  },
  {
   "cell_type": "code",
   "execution_count": null,
   "id": "8461d827",
   "metadata": {},
   "outputs": [],
   "source": [
    "cantidad_comuna = []\n",
    "for i in datos_final:\n",
    "    cantidad_datos = len(i)\n",
    "    i[\"CODIGO_COMUNA\"] = i[\"CODIGO_COMUNA\"].astype(int)\n",
    "    seriee = i[\"CODIGO_COMUNA\"].value_counts().head(10)\n",
    "    dff = seriee.reset_index()\n",
    "    dff.columns = ['CODIGO_COMUNA', 'Cantidad']\n",
    "    dff[\"Porcentaje\"] = round((dff[\"Cantidad\"] / cantidad_datos) * 100 , 3)\n",
    "    cantidad_comuna.append((dff))\n",
    "    "
   ]
  },
  {
   "cell_type": "code",
   "execution_count": null,
   "id": "1d764ba2",
   "metadata": {},
   "outputs": [],
   "source": [
    "cantidad_comuna[0].head(10) "
   ]
  },
  {
   "cell_type": "code",
   "execution_count": null,
   "id": "6c1bb568",
   "metadata": {},
   "outputs": [],
   "source": [
    "\n",
    "comuna_c = dcopy(comuna)\n",
    "comuna_c = comuna_c[14:len(comuna)]\n",
    "renombre_comuna = dcopy(cantidad_comuna)\n",
    "lista_final = []\n",
    "\n",
    "df_10 = renombre_comuna[0]\n",
    "df_look = comuna_c[0]\n",
    "df_look = df_look[[\"COM\", \"COM_NOMBRE\"]]\n",
    "df_look.columns = [\"CODIGO_COMUNA\" , \"NOMBRE_COMUNA\" ]\n",
    "df = pd.merge(df_10 , df_look , on= \"CODIGO_COMUNA\" , how=\"left\" )\n",
    "lista_final.append(df[[\"CODIGO_COMUNA\" , \"NOMBRE_COMUNA\" , \"Cantidad\" , \"Porcentaje\"]])\n",
    "\n",
    "\n",
    "\n",
    "\n",
    "\n",
    "for i in range(len(comuna_c) - 2):\n",
    "    df_10 = renombre_comuna[i + 1]\n",
    "    df_look = comuna_c[i + 1]\n",
    "    df_look = df_look[[\"COD.COMUNA\", \"COM NOMBRE\"]]\n",
    "    df_look.columns = [\"CODIGO_COMUNA\" , \"NOMBRE_COMUNA\" , ]\n",
    "    \n",
    "    df = pd.merge(df_10 , df_look , on= \"CODIGO_COMUNA\" , how=\"left\" )\n",
    "    lista_final.append(df[[\"CODIGO_COMUNA\" , \"NOMBRE_COMUNA\" , \"Cantidad\" , \"Porcentaje\" ]])\n",
    "    \n",
    "lista_final[1].head()\n",
    "\n"
   ]
  },
  {
   "cell_type": "code",
   "execution_count": null,
   "id": "53ad9376",
   "metadata": {},
   "outputs": [],
   "source": [
    "lista_final[len(lista_final) - 1].head()  \n"
   ]
  },
  {
   "cell_type": "markdown",
   "id": "5adcc6d0",
   "metadata": {},
   "source": [
    "#### Con este dataframe se responde a la pregunta ¿Qué comunas presentaron los mayores porcentajes de ingresos a la educación superior? \n"
   ]
  },
  {
   "cell_type": "code",
   "execution_count": null,
   "id": "ac967b89-819c-44f8-9f80-3836105c553b",
   "metadata": {},
   "outputs": [],
   "source": [
    "for i in range(len(lista_final)):\n",
    "    print(lista_final[i].head(3))\n",
    "\n",
    "#hacer mas bonita esta parte, la hare luego"
   ]
  },
  {
   "cell_type": "code",
   "execution_count": null,
   "id": "083929f8-448c-4840-9cd6-36b193cc414b",
   "metadata": {},
   "outputs": [],
   "source": []
  },
  {
   "cell_type": "code",
   "execution_count": null,
   "id": "895c620b-fc67-47e0-9c02-640442b61c4f",
   "metadata": {},
   "outputs": [],
   "source": []
  },
  {
   "cell_type": "code",
   "execution_count": null,
   "id": "9a89f131-5a11-4d27-98c2-421e65621d1a",
   "metadata": {},
   "outputs": [],
   "source": []
  },
  {
   "cell_type": "code",
   "execution_count": null,
   "id": "8fe1570d-8d46-40c7-820c-49106c83009b",
   "metadata": {},
   "outputs": [],
   "source": []
  },
  {
   "cell_type": "code",
   "execution_count": null,
   "id": "8488f3f1-4acf-45d3-a62e-b9e7870e084b",
   "metadata": {},
   "outputs": [],
   "source": []
  },
  {
   "cell_type": "code",
   "execution_count": null,
   "id": "1b0e7ec8-0563-4d94-90b2-c11c773beced",
   "metadata": {},
   "outputs": [],
   "source": []
  },
  {
   "cell_type": "code",
   "execution_count": null,
   "id": "3e5b7b85-7e8e-4860-b173-ab94b97ea790",
   "metadata": {},
   "outputs": [],
   "source": []
  },
  {
   "cell_type": "code",
   "execution_count": null,
   "id": "fbb8e56f-e202-46bf-904d-12a5483bbd94",
   "metadata": {},
   "outputs": [],
   "source": []
  },
  {
   "cell_type": "markdown",
   "id": "2e5a5e22-03f4-4a88-a939-d341a6ae2b13",
   "metadata": {
    "jp-MarkdownHeadingCollapsed": true
   },
   "source": [
    "### Pregunta 5.\n",
    "###### ¿Qué relación existe entre la situación de egreso de los estudiantes y los resultados de admisión a la educación superior?\n"
   ]
  },
  {
   "cell_type": "code",
   "execution_count": null,
   "id": "b1bfbe30-dc90-45e7-ad19-b44f0efd5e15",
   "metadata": {},
   "outputs": [],
   "source": []
  },
  {
   "cell_type": "code",
   "execution_count": null,
   "id": "ace2fb0d-fef7-4c3f-bfdc-9115a17743c6",
   "metadata": {},
   "outputs": [],
   "source": [
    "import matplotlib.pyplot as plt\n",
    "import seaborn as sns\n",
    "\n",
    "df_p5 = (\n",
    "    total_por_egr.merge(mat_por_egr, on='SIT_EGRESO_STR', how='left').fillna({'n_matriculados': 0})\n",
    "    .merge(pond_prom, on='SIT_EGRESO_STR', how='left')\n",
    "    .assign(**{'tasa_matricula_%': lambda d: (d['n_matriculados'] / d['n_total']) * 100})\n",
    "    .sort_values('tasa_matricula_%', ascending=False)\n",
    ")\n",
    "\n",
    "print('\\n--- PREGUNTA 5: Relación egreso y resultados admisión ---')\n",
    "display(df_p5)\n",
    "\n",
    "plt.rcParams['figure.figsize'] = (15, 10)\n",
    "plt.rcParams['axes.grid'] = True\n",
    "plt.figure()\n",
    "\n",
    "# Gráfico para tasa de matrícula por situación de egreso\n",
    "plt.subplot(2, 1, 1)\n",
    "plt.bar(df_p5['SIT_EGRESO_STR'], df_p5['tasa_matricula_%'])\n",
    "plt.title('Tasa de Matrícula por Situación de Egreso')\n",
    "plt.xlabel('Situación de Egreso (años desde egreso)')\n",
    "plt.ylabel('Tasa de Matrícula (%)')\n",
    "plt.xticks(rotation=45)\n",
    "\n",
    "# Gráfico de puntajes promedio por situación de egreso\n",
    "plt.subplot(2, 1, 2)\n",
    "plt.bar(df_p5['SIT_EGRESO_STR'], df_p5['promedio_ptje_ponderado'])\n",
    "plt.title('Puntaje Ponderado Promedio por Situación de Egreso')\n",
    "plt.xlabel('Situación de Egreso (años desde egreso)')\n",
    "plt.ylabel('Puntaje Ponderado Promedio')\n",
    "plt.xticks(rotation=45)\n",
    "\n",
    "plt.tight_layout()\n",
    "plt.show()\n",
    "\n",
    "df_analisis = df_p5.copy()\n",
    "df_analisis['años_desde_egreso'] = pd.to_numeric(df_analisis['SIT_EGRESO_STR'], errors='coerce')\n",
    "\n",
    "df_analisis = df_analisis.sort_values('años_desde_egreso')\n",
    "\n",
    "print(\"\\nHALLAZGOS PRINCIPALES:\")\n",
    "print(f\"- Mayor tasa de matrícula: {df_p5['tasa_matricula_%'].max():.1f}% \"\n",
    "      f\"(Situación: {df_p5.loc[df_p5['tasa_matricula_%'].idxmax(), 'SIT_EGRESO_STR']})\")\n",
    "print(f\"- Menor tasa de matrícula: {df_p5['tasa_matricula_%'].min():.1f}% \"\n",
    "      f\"(Situación: {df_p5.loc[df_p5['tasa_matricula_%'].idxmin(), 'SIT_EGRESO_STR']})\")\n",
    "print(f\"- Puntaje promedio más alto: {df_p5['promedio_ptje_ponderado'].max():.1f} \"\n",
    "      f\"(Situación: {df_p5.loc[df_p5['promedio_ptje_ponderado'].idxmax(), 'SIT_EGRESO_STR']})\")\n",
    "\n",
    "corr_tasa = df_analisis['años_desde_egreso'].corr(df_analisis['tasa_matricula_%'])\n",
    "corr_puntaje = df_analisis['años_desde_egreso'].corr(df_analisis['promedio_ptje_ponderado'])\n",
    "\n",
    "print(\"\\nCORRELACIONES:\")\n",
    "print(f\"- Correlación años desde egreso vs tasa de matrícula: {corr_tasa:.3f}\")\n",
    "print(f\"- Correlación años desde egreso vs puntaje promedio: {corr_puntaje:.3f}\")\n",
    "print(\"\\nCONCLUSIÓN:\")\n",
    "print(\"La relación entre situación de egreso y resultados de admisión muestra que los recién egresados (0 años) \\n\" \\\n",
    "\"tienen mejores resultados tanto en tasas de matrícula como en puntajes, a su vez existe una tendencia descendente en ambos \\n\" \\\n",
    "\"indicadores a medida que aumentan los años desde el egreso. La brecha más significativa se observa entre recién \\n\" \\\n",
    "\"egresados y quienes llevan más tiempo fuera del sistema escolar, los datos sugieren que el tiempo transcurrido desde \\n\" \\\n",
    "\"el egreso tiene un impacto negativo en las oportunidades de acceso a la educación superior\")"
   ]
  },
  {
   "cell_type": "code",
   "execution_count": null,
   "id": "e03c223f-ca46-4e3f-9750-ab6f26bfd95c",
   "metadata": {},
   "outputs": [],
   "source": []
  },
  {
   "cell_type": "code",
   "execution_count": null,
   "id": "45c7509d-f404-4307-a2c1-c0084405d162",
   "metadata": {},
   "outputs": [],
   "source": []
  },
  {
   "cell_type": "code",
   "execution_count": null,
   "id": "9fe9d8c5-0560-446c-9b01-f089305c58f8",
   "metadata": {},
   "outputs": [],
   "source": []
  },
  {
   "cell_type": "code",
   "execution_count": null,
   "id": "b7f3a625-69df-43af-928c-b3bd4e106202",
   "metadata": {},
   "outputs": [],
   "source": []
  },
  {
   "cell_type": "code",
   "execution_count": null,
   "id": "cc8a0acf-b43e-470e-96cb-3c939c935616",
   "metadata": {},
   "outputs": [],
   "source": []
  },
  {
   "cell_type": "code",
   "execution_count": null,
   "id": "d7f4ea01-2d82-48f2-859b-9513be25f30f",
   "metadata": {},
   "outputs": [],
   "source": []
  },
  {
   "cell_type": "markdown",
   "id": "5a01033d-1449-4dd3-9acc-8f8c174c0516",
   "metadata": {
    "jp-MarkdownHeadingCollapsed": true
   },
   "source": [
    "### Nuevas pregunta surgida en el proceso EDA:\n",
    "###### .............\n"
   ]
  },
  {
   "cell_type": "code",
   "execution_count": null,
   "id": "102786e2-7e7d-4912-ad50-d1efbcfc4756",
   "metadata": {},
   "outputs": [],
   "source": []
  },
  {
   "cell_type": "code",
   "execution_count": null,
   "id": "cabb5688-50a5-49b9-af79-f6e1d9676ebf",
   "metadata": {},
   "outputs": [],
   "source": []
  },
  {
   "cell_type": "code",
   "execution_count": null,
   "id": "0a3b59ba-2e45-411f-a163-d7b5b493d058",
   "metadata": {},
   "outputs": [],
   "source": []
  },
  {
   "cell_type": "code",
   "execution_count": null,
   "id": "74336aa1-590c-4739-86cc-f272b30b87aa",
   "metadata": {},
   "outputs": [],
   "source": []
  },
  {
   "cell_type": "code",
   "execution_count": null,
   "id": "e96eb2fc-69cd-4d6e-8390-106ed5cd810d",
   "metadata": {},
   "outputs": [],
   "source": []
  },
  {
   "cell_type": "code",
   "execution_count": null,
   "id": "18357d58-fc0b-453b-ae67-07e184c07ee6",
   "metadata": {},
   "outputs": [],
   "source": []
  },
  {
   "cell_type": "markdown",
   "id": "8b1eb4c8-5ec1-4833-806e-57a139990cac",
   "metadata": {
    "jp-MarkdownHeadingCollapsed": true
   },
   "source": [
    "## Conclusiones \n"
   ]
  },
  {
   "cell_type": "code",
   "execution_count": null,
   "id": "a0fee031-2a38-46b5-b9c2-cea6c06c0170",
   "metadata": {},
   "outputs": [],
   "source": []
  },
  {
   "cell_type": "code",
   "execution_count": null,
   "id": "bffb9d0b-2dbf-472c-984f-a658b5ae9b01",
   "metadata": {},
   "outputs": [],
   "source": []
  },
  {
   "cell_type": "code",
   "execution_count": null,
   "id": "88c6c694-9152-4061-acd9-f6a342569298",
   "metadata": {},
   "outputs": [],
   "source": []
  },
  {
   "cell_type": "code",
   "execution_count": null,
   "id": "522d91e0-be26-4125-8160-94827732fd5e",
   "metadata": {},
   "outputs": [],
   "source": []
  },
  {
   "cell_type": "code",
   "execution_count": null,
   "id": "dc7a4edb-4ec3-4f04-ab51-cafb1c2700bf",
   "metadata": {},
   "outputs": [],
   "source": []
  },
  {
   "cell_type": "code",
   "execution_count": null,
   "id": "dce3ce67-130a-4219-8fee-5f190bf9a41e",
   "metadata": {},
   "outputs": [],
   "source": []
  },
  {
   "cell_type": "code",
   "execution_count": null,
   "id": "7ffc17f1-ea70-4e41-b206-3984b8ed0574",
   "metadata": {},
   "outputs": [],
   "source": []
  },
  {
   "cell_type": "code",
   "execution_count": null,
   "id": "35b90023-413b-46ca-a3d7-0cbbb4625895",
   "metadata": {},
   "outputs": [],
   "source": []
  },
  {
   "cell_type": "code",
   "execution_count": null,
   "id": "2f309696-764b-4ef6-ac93-ed4ddc039562",
   "metadata": {},
   "outputs": [],
   "source": []
  },
  {
   "cell_type": "code",
   "execution_count": null,
   "id": "bd783c9d-24d6-4c80-8b79-d07649d10bb5",
   "metadata": {},
   "outputs": [],
   "source": []
  },
  {
   "cell_type": "code",
   "execution_count": null,
   "id": "3e848cd8-8393-4045-bb13-861e842f8c68",
   "metadata": {},
   "outputs": [],
   "source": []
  }
 ],
 "metadata": {
  "kernelspec": {
   "display_name": "Python 3 (ipykernel)",
   "language": "python",
   "name": "python3"
  },
  "language_info": {
   "codemirror_mode": {
    "name": "ipython",
    "version": 3
   },
   "file_extension": ".py",
   "mimetype": "text/x-python",
   "name": "python",
   "nbconvert_exporter": "python",
   "pygments_lexer": "ipython3",
   "version": "3.13.5"
  }
 },
 "nbformat": 4,
 "nbformat_minor": 5
}

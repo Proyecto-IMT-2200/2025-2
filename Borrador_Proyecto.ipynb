{
 "cells": [
  {
   "cell_type": "markdown",
   "id": "9611276a-cab7-4ae5-b18d-f6677d24a797",
   "metadata": {},
   "source": [
    "# Borrador Proyecto IMT-2200 Grupo 28\n",
    "\n",
    "\n",
    "Este jupyter notebook tiene como proposito hacer el analisis de admision a la educacion superior dentro de los años 20xx'2024.\n",
    "Esta echo de manera explicativa con graficos y interpretaciones para cada caso, se recomienda ir directo a la seccion de Interpretacion para saltarse la parte tecnica.\n"
   ]
  },
  {
   "cell_type": "markdown",
   "id": "ee2cd73d-a349-4a6b-9c0b-ec96c1f08f93",
   "metadata": {},
   "source": [
    "## Índice\n",
    "\n",
    "- **Import de librería**\n",
    "\n",
    "- **Lectura de archivos**\n",
    "    - Leer el archivo de datos\n",
    "    - Vista previa de los datos\n",
    "\n",
    "- **Limpieza de datos**\n",
    "    - Eliminar null y datos inconsistentes\n",
    "    - Corregir errores\n",
    "    - Tratar con duplicados\n",
    "    - Renombrar columnas\n",
    "\n",
    "- **Análisis de los Datos(EDA)**\n",
    "    - Juntar bases\n",
    "    - Hacer gráficos\n",
    "    - ...\n",
    "\n",
    "- **Conclusiones**\n",
    "\n"
   ]
  },
  {
   "cell_type": "code",
   "execution_count": null,
   "id": "2a03f5e4-97ad-49f5-a572-8d414b8539d0",
   "metadata": {},
   "outputs": [],
   "source": []
  },
  {
   "cell_type": "markdown",
   "id": "fad78eb2-c61d-4721-ac23-864207d7528f",
   "metadata": {},
   "source": [
    "## Import de librerias a utilizar"
   ]
  },
  {
   "cell_type": "markdown",
   "id": "d25920a2-309a-4299-909d-951f876b7b64",
   "metadata": {},
   "source": [
    "\n",
    "- **Pandas**: Creación del DataFrame, su limpieza, joins, groupby, etc.\n",
    "- **Numpy**: Pasar algunos datos a arreglos, vectores y matrices.\n",
    "- **Matplotlib**: Gráficos.\n",
    "- **Plotly**: Gráficos interactivos para la exploración y visualización.\n",
    "- **...**\n"
   ]
  },
  {
   "cell_type": "code",
   "execution_count": 6,
   "id": "92fd7c9b-7ab2-4707-9f90-9e30c7141e10",
   "metadata": {},
   "outputs": [],
   "source": [
    "import pandas as pd\n",
    "import numpy as np\n",
    "import matplotlib.pyplot as plt\n",
    "#import geopandas as gpd\n"
   ]
  },
  {
   "cell_type": "markdown",
   "id": "8578eac7-d19f-46b8-a1dd-200b63c59ded",
   "metadata": {},
   "source": [
    "## Lectura de Archivos"
   ]
  },
  {
   "cell_type": "markdown",
   "id": "c83bceea-469f-488f-834f-9d771a44bdd2",
   "metadata": {},
   "source": [
    "**-Leer el archivo de datos**"
   ]
  },
  {
   "cell_type": "code",
   "execution_count": null,
   "id": "f559d5ee-b402-480d-9608-ef271b370158",
   "metadata": {},
   "outputs": [],
   "source": [
    "### debemos revisar si https://portal-transparencia.demre.cl/portal-base-datos\n",
    "### tiene alguna api key o algo para descargar los datos mas facil\n",
    "\n",
    "\n"
   ]
  },
  {
   "cell_type": "markdown",
   "id": "06d9eb24-fd6a-4dd7-93a7-824157d059b9",
   "metadata": {},
   "source": [
    "**-Vista previa de los datos**"
   ]
  },
  {
   "cell_type": "code",
   "execution_count": null,
   "id": "7402ce13-aafb-4d66-abd9-401228ed583a",
   "metadata": {},
   "outputs": [],
   "source": []
  },
  {
   "cell_type": "markdown",
   "id": "8bc7e208-d67f-428a-ad35-639e5ba715ab",
   "metadata": {},
   "source": [
    "## Limpieza de datos"
   ]
  },
  {
   "cell_type": "markdown",
   "id": "a63e7dd7-b903-4406-a85e-ba08616ae5c8",
   "metadata": {},
   "source": [
    "-**Eliminar null y datos inconsistentes**\n"
   ]
  },
  {
   "cell_type": "code",
   "execution_count": null,
   "id": "755ad259-2a51-485c-b970-1fe621faae15",
   "metadata": {},
   "outputs": [],
   "source": [
    "\n",
    "\n",
    "\n",
    "\n",
    "\n",
    "\n"
   ]
  },
  {
   "cell_type": "markdown",
   "id": "e3af4e04-c670-4862-8026-db17fc7eec47",
   "metadata": {},
   "source": [
    "**-Corregir errores**\n"
   ]
  },
  {
   "cell_type": "code",
   "execution_count": null,
   "id": "2a159d50-d941-4ed9-a30c-e4f39f1a77f0",
   "metadata": {},
   "outputs": [],
   "source": []
  },
  {
   "cell_type": "markdown",
   "id": "9f8641e7-1493-44bf-ab20-ebac5eec9e50",
   "metadata": {},
   "source": [
    "**-Tratar con duplicados**\n"
   ]
  },
  {
   "cell_type": "code",
   "execution_count": null,
   "id": "3eff505f-7519-4ad4-b581-9a2ed3729e22",
   "metadata": {},
   "outputs": [],
   "source": []
  },
  {
   "cell_type": "markdown",
   "id": "a5ba2081-5ad6-4de3-a510-3ca039d9cfc7",
   "metadata": {},
   "source": [
    "**-Renombrar columnas**"
   ]
  },
  {
   "cell_type": "code",
   "execution_count": null,
   "id": "b9ae5779-e6b0-48c8-a2b2-7f590bff809a",
   "metadata": {},
   "outputs": [],
   "source": []
  },
  {
   "cell_type": "code",
   "execution_count": null,
   "id": "c19e005a-7ea5-449d-b005-7404ceb86c98",
   "metadata": {},
   "outputs": [],
   "source": []
  },
  {
   "cell_type": "code",
   "execution_count": null,
   "id": "9f258c93-b571-4ebf-9d55-8984b61fcc97",
   "metadata": {},
   "outputs": [],
   "source": []
  },
  {
   "cell_type": "code",
   "execution_count": null,
   "id": "e7018477-42d0-42fb-88d5-661d449f878b",
   "metadata": {},
   "outputs": [],
   "source": []
  },
  {
   "cell_type": "code",
   "execution_count": null,
   "id": "e4caa700-a62f-4669-84da-14e73062fdc6",
   "metadata": {},
   "outputs": [],
   "source": []
  },
  {
   "cell_type": "code",
   "execution_count": null,
   "id": "da4a8ec8-55a9-4ab3-93fa-849aff420095",
   "metadata": {},
   "outputs": [],
   "source": []
  }
 ],
 "metadata": {
  "kernelspec": {
   "display_name": "Python 3 (ipykernel)",
   "language": "python",
   "name": "python3"
  },
  "language_info": {
   "codemirror_mode": {
    "name": "ipython",
    "version": 3
   },
   "file_extension": ".py",
   "mimetype": "text/x-python",
   "name": "python",
   "nbconvert_exporter": "python",
   "pygments_lexer": "ipython3",
   "version": "3.13.5"
  }
 },
 "nbformat": 4,
 "nbformat_minor": 5
}
